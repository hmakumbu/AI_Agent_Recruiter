{
 "cells": [
  {
   "cell_type": "code",
   "execution_count": 1,
   "metadata": {},
   "outputs": [],
   "source": [
    "from tavily import TavilyClient"
   ]
  },
  {
   "cell_type": "code",
   "execution_count": 2,
   "metadata": {},
   "outputs": [
    {
     "ename": "AttributeError",
     "evalue": "'dict' object has no attribute 'results'",
     "output_type": "error",
     "traceback": [
      "\u001b[0;31m---------------------------------------------------------------------------\u001b[0m",
      "\u001b[0;31mAttributeError\u001b[0m                            Traceback (most recent call last)",
      "Cell \u001b[0;32mIn[2], line 7\u001b[0m\n\u001b[1;32m      5\u001b[0m response \u001b[38;5;241m=\u001b[39m tavily\u001b[38;5;241m.\u001b[39msearch(query\u001b[38;5;241m=\u001b[39m\u001b[38;5;124m\"\u001b[39m\u001b[38;5;124mShould I invest in Apple in 2024?\u001b[39m\u001b[38;5;124m\"\u001b[39m, search_depth\u001b[38;5;241m=\u001b[39m\u001b[38;5;124m\"\u001b[39m\u001b[38;5;124madvanced\u001b[39m\u001b[38;5;124m\"\u001b[39m)\n\u001b[1;32m      6\u001b[0m \u001b[38;5;66;03m# Get the search results as context to pass an LLM:\u001b[39;00m\n\u001b[0;32m----> 7\u001b[0m context \u001b[38;5;241m=\u001b[39m [{\u001b[38;5;124m\"\u001b[39m\u001b[38;5;124mhttps://www.journaldequebec.com/actualite\u001b[39m\u001b[38;5;124m\"\u001b[39m: obj[\u001b[38;5;124m\"\u001b[39m\u001b[38;5;124mhttps://www.journaldequebec.com/actualite\u001b[39m\u001b[38;5;124m\"\u001b[39m], \u001b[38;5;124m\"\u001b[39m\u001b[38;5;124mcontent\u001b[39m\u001b[38;5;124m\"\u001b[39m: obj[\u001b[38;5;124m\"\u001b[39m\u001b[38;5;124mcontent\u001b[39m\u001b[38;5;124m\"\u001b[39m]} \u001b[38;5;28;01mfor\u001b[39;00m obj \u001b[38;5;129;01min\u001b[39;00m response\u001b[38;5;241m.\u001b[39mresults]\n",
      "\u001b[0;31mAttributeError\u001b[0m: 'dict' object has no attribute 'results'"
     ]
    }
   ],
   "source": [
    "tavily = TavilyClient(api_key=\"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\")\n",
    "\n",
    "# For basic search:\n",
    "response = tavily.search(query=\"Should I invest in Apple in 2024?\")\n",
    "\n",
    "# For advanced search:\n",
    "response = tavily.search(query=\"Should I invest in Apple in 2024?\", search_depth=\"advanced\")\n",
    "\n",
    "# Get the search results as context to pass an LLM:\n",
    "context = [{\"https://www.journaldequebec.com/actualite\": obj[\"https://www.journaldequebec.com/actualite\"], \"content\": obj[\"content\"]} for obj in response.results]"
   ]
  },
  {
   "cell_type": "code",
   "execution_count": 3,
   "metadata": {},
   "outputs": [
    {
     "data": {
      "text/plain": [
       "'Lionel Messi currently plays for Inter Miami in the MLS.'"
      ]
     },
     "execution_count": 3,
     "metadata": {},
     "output_type": "execute_result"
    }
   ],
   "source": [
    "# The response is a string of the context within the max_token limit.\n",
    "tavily.get_search_context(query=\"What happened in the burning man floods?\", search_depth=\"advanced\", max_tokens=1500)\n",
    "\n",
    "# You can also get a simple answer to a question including relevant sources all with a simple function call:\n",
    "tavily.qna_search(query=\"Where does Messi play right now?\")"
   ]
  }
 ],
 "metadata": {
  "kernelspec": {
   "display_name": "base",
   "language": "python",
   "name": "python3"
  },
  "language_info": {
   "codemirror_mode": {
    "name": "ipython",
    "version": 3
   },
   "file_extension": ".py",
   "mimetype": "text/x-python",
   "name": "python",
   "nbconvert_exporter": "python",
   "pygments_lexer": "ipython3",
   "version": "3.11.5"
  }
 },
 "nbformat": 4,
 "nbformat_minor": 2
}
